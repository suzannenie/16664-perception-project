{
  "cells": [
    {
      "cell_type": "code",
      "execution_count": 115,
      "metadata": {
        "id": "moq6mP519Gg6"
      },
      "outputs": [],
      "source": [
        "#! /usr/bin/python3\n",
        "import numpy as np\n",
        "from glob import glob\n",
        "import csv\n",
        "import pandas as pd\n",
        "import torch\n",
        "from torch.utils.data import Dataset, DataLoader\n",
        "from torchvision import transforms\n",
        "import cv2"
      ]
    },
    {
      "cell_type": "code",
      "execution_count": 174,
      "metadata": {},
      "outputs": [
        {
          "name": "stdout",
          "output_type": "stream",
          "text": [
            "/workspace\n"
          ]
        }
      ],
      "source": [
        "%cd '/workspace'"
      ]
    },
    {
      "cell_type": "code",
      "execution_count": 175,
      "metadata": {
        "id": "HY50XeWReWKZ"
      },
      "outputs": [
        {
          "data": {
            "text/plain": [
              "7573"
            ]
          },
          "execution_count": 175,
          "metadata": {},
          "output_type": "execute_result"
        }
      ],
      "source": [
        "images = glob('{}/*/*_image.jpg'.format('trainval'))\n",
        "def help(s):\n",
        "  return s[-51:]\n",
        "images = sorted(images, key=help)\n",
        "len(images)"
      ]
    },
    {
      "cell_type": "code",
      "execution_count": 176,
      "metadata": {
        "id": "PWFJ8ZifeXyJ"
      },
      "outputs": [],
      "source": [
        "labels = pd.read_csv('trainval_labels.csv')"
      ]
    },
    {
      "cell_type": "code",
      "execution_count": 177,
      "metadata": {
        "id": "D0fGQbXUkuQ2"
      },
      "outputs": [],
      "source": [
        "labels.set_index('guid/image',inplace=True)\n",
        "D = labels.to_dict()"
      ]
    },
    {
      "cell_type": "code",
      "execution_count": 178,
      "metadata": {},
      "outputs": [
        {
          "data": {
            "text/plain": [
              "7573"
            ]
          },
          "execution_count": 178,
          "metadata": {},
          "output_type": "execute_result"
        }
      ],
      "source": [
        "len(D['label'])"
      ]
    },
    {
      "cell_type": "code",
      "execution_count": 151,
      "metadata": {},
      "outputs": [
        {
          "data": {
            "text/plain": [
              "(7573, 7573)"
            ]
          },
          "execution_count": 151,
          "metadata": {},
          "output_type": "execute_result"
        }
      ],
      "source": [
        "count = 0\n",
        "for idx in range(len(images)):\n",
        "    name = images[idx]\n",
        "\n",
        "    L = name.split('/')\n",
        "    # print(L)\n",
        "    guid = L[1]\n",
        "    id = L[2][:4]\n",
        "    if f'{guid}/{id}' in D['label']:\n",
        "        count += 1\n",
        "count, len(images)"
      ]
    },
    {
      "cell_type": "code",
      "execution_count": 179,
      "metadata": {},
      "outputs": [],
      "source": [
        "count = 0\n",
        "tups = []\n",
        "for idx in range(len(images)):\n",
        "    name = images[idx]\n",
        "\n",
        "    L = name.split('/')\n",
        "    guid = L[1]\n",
        "    id = L[2][:4]\n",
        "    tups.append((images[idx], D['label'][f'{guid}/{id}']))\n"
      ]
    },
    {
      "cell_type": "code",
      "execution_count": 181,
      "metadata": {},
      "outputs": [],
      "source": [
        "import pickle\n",
        "with open('tups.pkl', 'wb') as f:\n",
        "    pickle.dump(tups, f)"
      ]
    },
    {
      "cell_type": "code",
      "execution_count": 153,
      "metadata": {},
      "outputs": [],
      "source": [
        "device = 'cuda' if torch.cuda.is_available() else 'cpu'"
      ]
    },
    {
      "cell_type": "code",
      "execution_count": 188,
      "metadata": {
        "id": "H8IosFWZfYpj"
      },
      "outputs": [],
      "source": [
        "class ImageDataloader(Dataset):\n",
        "    \"\"\"\n",
        "    Dataloader for Inference.\n",
        "    \"\"\"\n",
        "    def __init__(self, image_paths, label_dict, target_size=256):\n",
        "\n",
        "        self.img_paths = image_paths\n",
        "        self.label_dict = label_dict\n",
        "        self.target_size = target_size\n",
        "        self.normalize = transforms.Normalize(mean=[0.485, 0.456, 0.406],\n",
        "                                              std=[0.229, 0.224, 0.225])\n",
        "        self.transform = transforms.Compose([\n",
        "                transforms.ToPILImage(),transforms.Resize((target_size,target_size)),transforms.ToTensor()\n",
        "        ])\n",
        "\n",
        "    def __getitem__(self, idx):\n",
        "        \"\"\"\n",
        "        __getitem__ for inference\n",
        "        :param idx: Index of the image\n",
        "        :return: img_np is a numpy RGB-image of shape H x W x C with pixel values in range 0-255.\n",
        "        And img_tor is a torch tensor, RGB, C x H x W in shape and normalized.\n",
        "        \"\"\"\n",
        "        img = cv2.imread(self.img_paths[idx])\n",
        "        name = self.img_paths[idx]\n",
        "\n",
        "        L = name.split('/')\n",
        "        guid = L[1]\n",
        "        id = L[2][:4]\n",
        "\n",
        "        if self.label_dict:\n",
        "            label = self.label_dict[f'{guid}/{id}']\n",
        "        else:\n",
        "            # test\n",
        "            label = -1\n",
        "\n",
        "        img = cv2.cvtColor(img, cv2.COLOR_BGR2RGB)\n",
        "\n",
        "        # Pad images to target size\n",
        "        img_tor = self.transform(img)\n",
        "        # img_tor = img_np.astype(np.float32)\n",
        "        img_tor = img_tor / 255.0\n",
        "        # img_tor = self.normalize(img_tor)\n",
        "\n",
        "        # one_hot = torch.nn.functional.one_hot(torch.tensor(label), num_classes=3)\n",
        "        return img_tor, label\n",
        "\n",
        "    def __len__(self):\n",
        "      return len(self.img_paths)"
      ]
    },
    {
      "cell_type": "code",
      "execution_count": 155,
      "metadata": {
        "colab": {
          "base_uri": "https://localhost:8080/"
        },
        "id": "FaciISCXlelJ",
        "outputId": "5e00c2e8-a1d7-43d6-a04f-2e40c42f8764"
      },
      "outputs": [
        {
          "name": "stdout",
          "output_type": "stream",
          "text": [
            "Length of Train Data : 6573\n",
            "Length of Validation Data : 1000\n"
          ]
        }
      ],
      "source": [
        "from torch.utils.data import random_split\n",
        "\n",
        "batch_size = 128\n",
        "val_size = 1000\n",
        "train_size = len(images) - val_size \n",
        "\n",
        "train_data,val_data = random_split(images,[train_size,val_size])\n",
        "print(f\"Length of Train Data : {len(train_data)}\")\n",
        "print(f\"Length of Validation Data : {len(val_data)}\")\n",
        "\n",
        "train_data = ImageDataloader(train_data, D['label'])\n",
        "val_data = ImageDataloader(val_data, D['label'])\n",
        "\n",
        "#load the train and validation into batches.\n",
        "train_dl = DataLoader(train_data, batch_size, shuffle = True, num_workers = 4, pin_memory = True)\n",
        "val_dl = DataLoader(val_data, batch_size*2, num_workers = 4, pin_memory = True)"
      ]
    },
    {
      "cell_type": "code",
      "execution_count": 156,
      "metadata": {
        "id": "BCmwJmhXmC9A"
      },
      "outputs": [],
      "source": [
        "import torch.nn as nn\n",
        "import torch.nn.functional as F\n",
        "from tqdm import tqdm\n",
        "\n",
        "def accuracy(outputs, labels):\n",
        "    _, preds = torch.max(outputs.to(device), dim=1)\n",
        "    return torch.tensor(torch.sum(preds == labels).item() / len(preds))\n",
        "\n",
        "  \n",
        "@torch.no_grad()\n",
        "def evaluate(model, val_loader):\n",
        "    model.eval()\n",
        "    outputs = [model.validation_step(batch) for batch in val_loader]\n",
        "    return model.validation_epoch_end(outputs)\n",
        "\n",
        "  \n",
        "def fit(epochs, lr, model, train_loader, val_loader, opt_func = torch.optim.SGD):\n",
        "    \n",
        "    history = []\n",
        "    optimizer = opt_func(model.parameters(),lr)\n",
        "    for epoch in range(epochs):\n",
        "        print('epoch', epoch)\n",
        "        \n",
        "        model.train()\n",
        "        train_losses = []\n",
        "        for batch in tqdm(train_loader):\n",
        "            loss = model.training_step(batch)\n",
        "            train_losses.append(loss)\n",
        "            loss.backward()\n",
        "            optimizer.step()\n",
        "            optimizer.zero_grad()\n",
        "            \n",
        "        result = evaluate(model, val_loader)\n",
        "        result['train_loss'] = torch.stack(train_losses).mean().item()\n",
        "        model.epoch_end(epoch, result)\n",
        "        history.append(result)\n",
        "    \n",
        "    return history\n",
        "\n",
        "class ImageClassificationBase(nn.Module):\n",
        "    \n",
        "    def training_step(self, batch):\n",
        "        images, labels = batch \n",
        "        out = self(images.to(device))                  # Generate predictions\n",
        "        loss = F.cross_entropy(out.to(device), labels.to(device)) # Calculate loss\n",
        "        return loss\n",
        "    \n",
        "    def validation_step(self, batch):\n",
        "        images, labels = batch \n",
        "        out = self(images.to(device))                    # Generate predictions\n",
        "        loss = F.cross_entropy(out.to(device), labels.to(device))   # Calculate loss\n",
        "        acc = accuracy(out, labels)           # Calculate accuracy\n",
        "        return {'val_loss': loss.detach(), 'val_acc': acc}\n",
        "        \n",
        "    def validation_epoch_end(self, outputs):\n",
        "        batch_losses = [x['val_loss'] for x in outputs]\n",
        "        epoch_loss = torch.stack(batch_losses).mean()   # Combine losses\n",
        "        batch_accs = [x['val_acc'] for x in outputs]\n",
        "        epoch_acc = torch.stack(batch_accs).mean()      # Combine accuracies\n",
        "        return {'val_loss': epoch_loss.item(), 'val_acc': epoch_acc.item()}\n",
        "    \n",
        "    def epoch_end(self, epoch, result):\n",
        "        print(\"Epoch [{}], train_loss: {:.4f}, val_loss: {:.4f}, val_acc: {:.4f}\".format(\n",
        "            epoch, result['train_loss'], result['val_loss'], result['val_acc']))"
      ]
    },
    {
      "cell_type": "code",
      "execution_count": 186,
      "metadata": {
        "id": "IvAU47LbnMqN"
      },
      "outputs": [
        {
          "data": {
            "text/plain": [
              "CarClassification(\n",
              "  (network): Sequential(\n",
              "    (0): Conv2d(3, 32, kernel_size=(3, 3), stride=(1, 1), padding=(1, 1))\n",
              "    (1): ReLU()\n",
              "    (2): Conv2d(32, 64, kernel_size=(3, 3), stride=(1, 1), padding=(1, 1))\n",
              "    (3): ReLU()\n",
              "    (4): MaxPool2d(kernel_size=2, stride=2, padding=0, dilation=1, ceil_mode=False)\n",
              "    (5): Conv2d(64, 64, kernel_size=(3, 3), stride=(1, 1), padding=(1, 1))\n",
              "    (6): ReLU()\n",
              "    (7): Conv2d(64, 128, kernel_size=(3, 3), stride=(1, 1), padding=(1, 1))\n",
              "    (8): ReLU()\n",
              "    (9): MaxPool2d(kernel_size=2, stride=2, padding=0, dilation=1, ceil_mode=False)\n",
              "    (10): Conv2d(128, 128, kernel_size=(3, 3), stride=(1, 1), padding=(1, 1))\n",
              "    (11): ReLU()\n",
              "    (12): Conv2d(128, 128, kernel_size=(3, 3), stride=(1, 1), padding=(1, 1))\n",
              "    (13): ReLU()\n",
              "    (14): MaxPool2d(kernel_size=2, stride=2, padding=0, dilation=1, ceil_mode=False)\n",
              "    (15): Conv2d(128, 256, kernel_size=(3, 3), stride=(1, 1), padding=(1, 1))\n",
              "    (16): ReLU()\n",
              "    (17): Conv2d(256, 256, kernel_size=(3, 3), stride=(1, 1), padding=(1, 1))\n",
              "    (18): ReLU()\n",
              "    (19): MaxPool2d(kernel_size=2, stride=2, padding=0, dilation=1, ceil_mode=False)\n",
              "    (20): Flatten(start_dim=1, end_dim=-1)\n",
              "    (21): Linear(in_features=65536, out_features=1024, bias=True)\n",
              "    (22): ReLU()\n",
              "    (23): Linear(in_features=1024, out_features=512, bias=True)\n",
              "    (24): ReLU()\n",
              "    (25): Linear(in_features=512, out_features=3, bias=True)\n",
              "  )\n",
              ")"
            ]
          },
          "execution_count": 186,
          "metadata": {},
          "output_type": "execute_result"
        }
      ],
      "source": [
        "class CarClassification(ImageClassificationBase):\n",
        "    def __init__(self):\n",
        "        super().__init__()\n",
        "        self.network = nn.Sequential(\n",
        "            \n",
        "            nn.Conv2d(3, 32, kernel_size = 3, padding = 1),\n",
        "            nn.ReLU(),\n",
        "            nn.Conv2d(32,64, kernel_size = 3, stride = 1, padding = 1),\n",
        "            nn.ReLU(),\n",
        "            nn.MaxPool2d(2,2),\n",
        "        \n",
        "            nn.Conv2d(64, 64, kernel_size = 3, stride = 1, padding = 1),\n",
        "            nn.ReLU(),\n",
        "            nn.Conv2d(64 ,128, kernel_size = 3, stride = 1, padding = 1),\n",
        "            nn.ReLU(),\n",
        "            nn.MaxPool2d(2,2),\n",
        "\n",
        "            nn.Conv2d(128, 128, kernel_size = 3, stride = 1, padding = 1),\n",
        "            nn.ReLU(),\n",
        "            nn.Conv2d(128 ,128, kernel_size = 3, stride = 1, padding = 1),\n",
        "            nn.ReLU(),\n",
        "            nn.MaxPool2d(2,2),\n",
        "\n",
        "            nn.Conv2d(128, 256, kernel_size = 3, stride = 1, padding = 1),\n",
        "            nn.ReLU(),\n",
        "            nn.Conv2d(256 ,256, kernel_size = 3, stride = 1, padding = 1),\n",
        "            nn.ReLU(),\n",
        "            nn.MaxPool2d(2,2),\n",
        "            \n",
        "            nn.Flatten(),\n",
        "            nn.Linear(65536,1024),\n",
        "            nn.ReLU(),\n",
        "            nn.Linear(1024, 512),\n",
        "            nn.ReLU(),\n",
        "            nn.Linear(512,3)\n",
        "        )\n",
        "    \n",
        "    def forward(self, xb):\n",
        "        return self.network(xb)\n",
        "\n",
        "model = CarClassification()\n",
        "model.to(device)"
      ]
    },
    {
      "cell_type": "code",
      "execution_count": 160,
      "metadata": {},
      "outputs": [
        {
          "name": "stdout",
          "output_type": "stream",
          "text": [
            "CarClassification(\n",
            "  (network): Sequential(\n",
            "    (0): Conv2d(3, 32, kernel_size=(3, 3), stride=(1, 1), padding=(1, 1))\n",
            "    (1): ReLU()\n",
            "    (2): Conv2d(32, 64, kernel_size=(3, 3), stride=(1, 1), padding=(1, 1))\n",
            "    (3): ReLU()\n",
            "    (4): MaxPool2d(kernel_size=2, stride=2, padding=0, dilation=1, ceil_mode=False)\n",
            "    (5): Conv2d(64, 64, kernel_size=(3, 3), stride=(1, 1), padding=(1, 1))\n",
            "    (6): ReLU()\n",
            "    (7): Conv2d(64, 64, kernel_size=(3, 3), stride=(1, 1), padding=(1, 1))\n",
            "    (8): ReLU()\n",
            "    (9): MaxPool2d(kernel_size=2, stride=2, padding=0, dilation=1, ceil_mode=False)\n",
            "    (10): Flatten(start_dim=1, end_dim=-1)\n",
            "    (11): Linear(in_features=65536, out_features=1024, bias=True)\n",
            "    (12): ReLU()\n",
            "    (13): Linear(in_features=1024, out_features=512, bias=True)\n",
            "    (14): ReLU()\n",
            "    (15): Linear(in_features=512, out_features=3, bias=True)\n",
            "  )\n",
            ")\n"
          ]
        }
      ],
      "source": [
        "print(model)"
      ]
    },
    {
      "cell_type": "code",
      "execution_count": 128,
      "metadata": {
        "colab": {
          "base_uri": "https://localhost:8080/"
        },
        "id": "pQ7Nnd4xm8Vf",
        "outputId": "67482d58-d573-443b-efe2-26d4a0ac9070"
      },
      "outputs": [
        {
          "name": "stdout",
          "output_type": "stream",
          "text": [
            "epoch 0\n"
          ]
        },
        {
          "name": "stderr",
          "output_type": "stream",
          "text": [
            "  0%|          | 0/52 [00:00<?, ?it/s]"
          ]
        },
        {
          "name": "stdout",
          "output_type": "stream",
          "text": [
            "tensor([2, 0, 2, 2, 1, 2, 1, 0, 0, 1, 1, 1, 0, 1, 2, 1, 0, 1, 0, 1, 1, 1, 2, 0,\n",
            "        1, 2, 1, 0, 0, 0, 1, 0, 1, 0, 1, 0, 0, 0, 1, 1, 1, 1, 0, 0, 1, 0, 0, 1,\n",
            "        0, 1, 1, 0, 1, 2, 1, 0, 0, 1, 0, 1, 1, 1, 0, 1, 1, 2, 1, 1, 2, 0, 2, 1,\n",
            "        1, 2, 0, 0, 0, 0, 1, 1, 0, 1, 1, 2, 0, 0, 1, 0, 1, 0, 0, 0, 0, 1, 2, 0,\n",
            "        1, 0, 0, 0, 1, 0, 0, 1, 1, 0, 1, 1, 0, 0, 2, 2, 0, 2, 1, 2, 1, 0, 0, 1,\n",
            "        1, 1, 1, 1, 2, 2, 0, 0])\n",
            "tensor([[ 0.0049,  0.0363, -0.0033],\n",
            "        [ 0.0049,  0.0363, -0.0033],\n",
            "        [ 0.0049,  0.0363, -0.0033],\n",
            "        [ 0.0049,  0.0363, -0.0033],\n",
            "        [ 0.0049,  0.0363, -0.0033],\n",
            "        [ 0.0049,  0.0363, -0.0033],\n",
            "        [ 0.0049,  0.0363, -0.0033],\n",
            "        [ 0.0049,  0.0363, -0.0033],\n",
            "        [ 0.0049,  0.0363, -0.0033],\n",
            "        [ 0.0049,  0.0363, -0.0033],\n",
            "        [ 0.0049,  0.0363, -0.0033],\n",
            "        [ 0.0049,  0.0363, -0.0033],\n",
            "        [ 0.0049,  0.0363, -0.0033],\n",
            "        [ 0.0049,  0.0363, -0.0033],\n",
            "        [ 0.0049,  0.0363, -0.0033],\n",
            "        [ 0.0049,  0.0363, -0.0033],\n",
            "        [ 0.0049,  0.0363, -0.0033],\n",
            "        [ 0.0049,  0.0363, -0.0033],\n",
            "        [ 0.0049,  0.0363, -0.0033],\n",
            "        [ 0.0049,  0.0363, -0.0033],\n",
            "        [ 0.0049,  0.0363, -0.0033],\n",
            "        [ 0.0049,  0.0363, -0.0033],\n",
            "        [ 0.0049,  0.0363, -0.0033],\n",
            "        [ 0.0049,  0.0363, -0.0033],\n",
            "        [ 0.0049,  0.0363, -0.0033],\n",
            "        [ 0.0049,  0.0363, -0.0033],\n",
            "        [ 0.0049,  0.0363, -0.0033],\n",
            "        [ 0.0049,  0.0363, -0.0033],\n",
            "        [ 0.0049,  0.0363, -0.0033],\n",
            "        [ 0.0049,  0.0363, -0.0033],\n",
            "        [ 0.0049,  0.0363, -0.0033],\n",
            "        [ 0.0049,  0.0363, -0.0033],\n",
            "        [ 0.0049,  0.0363, -0.0033],\n",
            "        [ 0.0049,  0.0363, -0.0033],\n",
            "        [ 0.0049,  0.0363, -0.0033],\n",
            "        [ 0.0049,  0.0363, -0.0033],\n",
            "        [ 0.0049,  0.0363, -0.0033],\n",
            "        [ 0.0049,  0.0363, -0.0033],\n",
            "        [ 0.0049,  0.0363, -0.0033],\n",
            "        [ 0.0049,  0.0363, -0.0033],\n",
            "        [ 0.0049,  0.0363, -0.0033],\n",
            "        [ 0.0049,  0.0363, -0.0033],\n",
            "        [ 0.0049,  0.0363, -0.0033],\n",
            "        [ 0.0049,  0.0363, -0.0033],\n",
            "        [ 0.0049,  0.0363, -0.0033],\n",
            "        [ 0.0049,  0.0363, -0.0033],\n",
            "        [ 0.0049,  0.0363, -0.0033],\n",
            "        [ 0.0049,  0.0363, -0.0033],\n",
            "        [ 0.0049,  0.0363, -0.0033],\n",
            "        [ 0.0049,  0.0363, -0.0033],\n",
            "        [ 0.0049,  0.0363, -0.0033],\n",
            "        [ 0.0049,  0.0363, -0.0033],\n",
            "        [ 0.0049,  0.0363, -0.0033],\n",
            "        [ 0.0049,  0.0363, -0.0033],\n",
            "        [ 0.0049,  0.0363, -0.0033],\n",
            "        [ 0.0049,  0.0363, -0.0033],\n",
            "        [ 0.0049,  0.0363, -0.0033],\n",
            "        [ 0.0049,  0.0363, -0.0033],\n",
            "        [ 0.0049,  0.0363, -0.0033],\n",
            "        [ 0.0049,  0.0363, -0.0033],\n",
            "        [ 0.0049,  0.0363, -0.0033],\n",
            "        [ 0.0049,  0.0363, -0.0033],\n",
            "        [ 0.0049,  0.0363, -0.0033],\n",
            "        [ 0.0049,  0.0363, -0.0033],\n",
            "        [ 0.0049,  0.0363, -0.0033],\n",
            "        [ 0.0049,  0.0363, -0.0033],\n",
            "        [ 0.0049,  0.0363, -0.0033],\n",
            "        [ 0.0049,  0.0363, -0.0033],\n",
            "        [ 0.0049,  0.0363, -0.0033],\n",
            "        [ 0.0049,  0.0363, -0.0033],\n",
            "        [ 0.0049,  0.0363, -0.0033],\n",
            "        [ 0.0049,  0.0363, -0.0033],\n",
            "        [ 0.0049,  0.0363, -0.0033],\n",
            "        [ 0.0049,  0.0363, -0.0033],\n",
            "        [ 0.0049,  0.0363, -0.0033],\n",
            "        [ 0.0049,  0.0363, -0.0033],\n",
            "        [ 0.0049,  0.0363, -0.0033],\n",
            "        [ 0.0049,  0.0363, -0.0033],\n",
            "        [ 0.0049,  0.0363, -0.0033],\n",
            "        [ 0.0049,  0.0363, -0.0033],\n",
            "        [ 0.0049,  0.0363, -0.0033],\n",
            "        [ 0.0049,  0.0363, -0.0033],\n",
            "        [ 0.0049,  0.0363, -0.0033],\n",
            "        [ 0.0049,  0.0363, -0.0033],\n",
            "        [ 0.0049,  0.0363, -0.0033],\n",
            "        [ 0.0049,  0.0363, -0.0033],\n",
            "        [ 0.0049,  0.0363, -0.0033],\n",
            "        [ 0.0049,  0.0363, -0.0033],\n",
            "        [ 0.0049,  0.0363, -0.0033],\n",
            "        [ 0.0049,  0.0363, -0.0033],\n",
            "        [ 0.0049,  0.0363, -0.0033],\n",
            "        [ 0.0049,  0.0363, -0.0033],\n",
            "        [ 0.0049,  0.0363, -0.0033],\n",
            "        [ 0.0049,  0.0363, -0.0033],\n",
            "        [ 0.0049,  0.0363, -0.0033],\n",
            "        [ 0.0049,  0.0363, -0.0033],\n",
            "        [ 0.0049,  0.0363, -0.0033],\n",
            "        [ 0.0049,  0.0363, -0.0033],\n",
            "        [ 0.0049,  0.0363, -0.0033],\n",
            "        [ 0.0049,  0.0363, -0.0033],\n",
            "        [ 0.0049,  0.0363, -0.0033],\n",
            "        [ 0.0049,  0.0363, -0.0033],\n",
            "        [ 0.0049,  0.0363, -0.0033],\n",
            "        [ 0.0049,  0.0363, -0.0033],\n",
            "        [ 0.0049,  0.0363, -0.0033],\n",
            "        [ 0.0049,  0.0363, -0.0033],\n",
            "        [ 0.0049,  0.0363, -0.0033],\n",
            "        [ 0.0049,  0.0363, -0.0033],\n",
            "        [ 0.0049,  0.0363, -0.0033],\n",
            "        [ 0.0049,  0.0363, -0.0033],\n",
            "        [ 0.0049,  0.0363, -0.0033],\n",
            "        [ 0.0049,  0.0363, -0.0033],\n",
            "        [ 0.0049,  0.0363, -0.0033],\n",
            "        [ 0.0049,  0.0363, -0.0033],\n",
            "        [ 0.0049,  0.0363, -0.0033],\n",
            "        [ 0.0049,  0.0363, -0.0033],\n",
            "        [ 0.0049,  0.0363, -0.0033],\n",
            "        [ 0.0049,  0.0363, -0.0033],\n",
            "        [ 0.0049,  0.0363, -0.0033],\n",
            "        [ 0.0049,  0.0363, -0.0033],\n",
            "        [ 0.0049,  0.0363, -0.0033],\n",
            "        [ 0.0049,  0.0363, -0.0033],\n",
            "        [ 0.0049,  0.0363, -0.0033],\n",
            "        [ 0.0049,  0.0363, -0.0033],\n",
            "        [ 0.0049,  0.0363, -0.0033],\n",
            "        [ 0.0049,  0.0363, -0.0033],\n",
            "        [ 0.0049,  0.0363, -0.0033],\n",
            "        [ 0.0049,  0.0363, -0.0033]], grad_fn=<AddmmBackward0>)\n"
          ]
        },
        {
          "name": "stderr",
          "output_type": "stream",
          "text": [
            "  2%|▏         | 1/52 [00:11<09:27, 11.14s/it]"
          ]
        },
        {
          "name": "stdout",
          "output_type": "stream",
          "text": [
            "tensor([2, 2, 1, 0, 1, 1, 0, 2, 0, 1, 2, 0, 1, 1, 1, 1, 0, 1, 0, 1, 2, 1, 1, 2,\n",
            "        0, 2, 1, 2, 1, 0, 1, 1, 1, 0, 0, 1, 2, 1, 2, 1, 0, 0, 1, 0, 0, 0, 1, 1,\n",
            "        2, 0, 1, 0, 1, 0, 1, 2, 0, 2, 1, 0, 1, 2, 0, 2, 2, 1, 0, 1, 0, 1, 2, 2,\n",
            "        0, 0, 1, 0, 1, 0, 1, 1, 0, 0, 0, 0, 1, 0, 1, 1, 2, 1, 1, 0, 0, 2, 0, 1,\n",
            "        1, 1, 0, 1, 1, 2, 0, 0, 0, 1, 1, 0, 0, 0, 1, 1, 1, 1, 1, 1, 1, 1, 1, 0,\n",
            "        1, 1, 1, 0, 1, 1, 0, 1])\n",
            "tensor([[ 0.5836,  0.6003, -0.8885],\n",
            "        [ 0.5836,  0.6003, -0.8885],\n",
            "        [ 0.5835,  0.6002, -0.8884],\n",
            "        [ 0.5837,  0.6004, -0.8886],\n",
            "        [ 0.5835,  0.6002, -0.8884],\n",
            "        [ 0.5835,  0.6002, -0.8884],\n",
            "        [ 0.5837,  0.6004, -0.8886],\n",
            "        [ 0.5837,  0.6004, -0.8886],\n",
            "        [ 0.5835,  0.6002, -0.8883],\n",
            "        [ 0.5837,  0.6004, -0.8886],\n",
            "        [ 0.5836,  0.6003, -0.8885],\n",
            "        [ 0.5837,  0.6004, -0.8886],\n",
            "        [ 0.5835,  0.6003, -0.8884],\n",
            "        [ 0.5836,  0.6003, -0.8884],\n",
            "        [ 0.5837,  0.6004, -0.8886],\n",
            "        [ 0.5837,  0.6004, -0.8886],\n",
            "        [ 0.5835,  0.6002, -0.8883],\n",
            "        [ 0.5836,  0.6003, -0.8885],\n",
            "        [ 0.5835,  0.6002, -0.8884],\n",
            "        [ 0.5837,  0.6004, -0.8886],\n",
            "        [ 0.5836,  0.6003, -0.8885],\n",
            "        [ 0.5835,  0.6002, -0.8884],\n",
            "        [ 0.5835,  0.6002, -0.8883],\n",
            "        [ 0.5835,  0.6002, -0.8884],\n",
            "        [ 0.5836,  0.6003, -0.8885],\n",
            "        [ 0.5836,  0.6004, -0.8885],\n",
            "        [ 0.5837,  0.6004, -0.8886],\n",
            "        [ 0.5835,  0.6002, -0.8884],\n",
            "        [ 0.5835,  0.6002, -0.8884],\n",
            "        [ 0.5835,  0.6002, -0.8883],\n",
            "        [ 0.5837,  0.6004, -0.8886],\n",
            "        [ 0.5835,  0.6002, -0.8884],\n",
            "        [ 0.5836,  0.6003, -0.8884],\n",
            "        [ 0.5837,  0.6004, -0.8886],\n",
            "        [ 0.5836,  0.6003, -0.8885],\n",
            "        [ 0.5837,  0.6004, -0.8886],\n",
            "        [ 0.5837,  0.6004, -0.8886],\n",
            "        [ 0.5836,  0.6003, -0.8885],\n",
            "        [ 0.5837,  0.6004, -0.8886],\n",
            "        [ 0.5835,  0.6002, -0.8884],\n",
            "        [ 0.5837,  0.6004, -0.8886],\n",
            "        [ 0.5837,  0.6004, -0.8886],\n",
            "        [ 0.5837,  0.6004, -0.8887],\n",
            "        [ 0.5837,  0.6004, -0.8886],\n",
            "        [ 0.5835,  0.6002, -0.8884],\n",
            "        [ 0.5836,  0.6003, -0.8885],\n",
            "        [ 0.5836,  0.6003, -0.8885],\n",
            "        [ 0.5837,  0.6004, -0.8886],\n",
            "        [ 0.5836,  0.6003, -0.8885],\n",
            "        [ 0.5837,  0.6004, -0.8886],\n",
            "        [ 0.5836,  0.6004, -0.8885],\n",
            "        [ 0.5837,  0.6004, -0.8886],\n",
            "        [ 0.5837,  0.6004, -0.8886],\n",
            "        [ 0.5836,  0.6003, -0.8884],\n",
            "        [ 0.5835,  0.6002, -0.8883],\n",
            "        [ 0.5837,  0.6004, -0.8886],\n",
            "        [ 0.5837,  0.6004, -0.8886],\n",
            "        [ 0.5837,  0.6004, -0.8886],\n",
            "        [ 0.5837,  0.6004, -0.8886],\n",
            "        [ 0.5837,  0.6004, -0.8886],\n",
            "        [ 0.5836,  0.6003, -0.8885],\n",
            "        [ 0.5835,  0.6002, -0.8884],\n",
            "        [ 0.5837,  0.6004, -0.8886],\n",
            "        [ 0.5835,  0.6002, -0.8883],\n",
            "        [ 0.5837,  0.6004, -0.8886],\n",
            "        [ 0.5837,  0.6004, -0.8886],\n",
            "        [ 0.5836,  0.6003, -0.8885],\n",
            "        [ 0.5835,  0.6002, -0.8884],\n",
            "        [ 0.5837,  0.6004, -0.8886],\n",
            "        [ 0.5835,  0.6002, -0.8883],\n",
            "        [ 0.5836,  0.6003, -0.8885],\n",
            "        [ 0.5837,  0.6004, -0.8886],\n",
            "        [ 0.5836,  0.6003, -0.8885],\n",
            "        [ 0.5836,  0.6003, -0.8884],\n",
            "        [ 0.5836,  0.6004, -0.8885],\n",
            "        [ 0.5837,  0.6004, -0.8886],\n",
            "        [ 0.5836,  0.6003, -0.8885],\n",
            "        [ 0.5836,  0.6003, -0.8885],\n",
            "        [ 0.5837,  0.6004, -0.8886],\n",
            "        [ 0.5836,  0.6004, -0.8885],\n",
            "        [ 0.5837,  0.6004, -0.8886],\n",
            "        [ 0.5837,  0.6004, -0.8886],\n",
            "        [ 0.5835,  0.6002, -0.8883],\n",
            "        [ 0.5837,  0.6004, -0.8886],\n",
            "        [ 0.5836,  0.6003, -0.8884],\n",
            "        [ 0.5835,  0.6002, -0.8883],\n",
            "        [ 0.5837,  0.6004, -0.8886],\n",
            "        [ 0.5837,  0.6004, -0.8886],\n",
            "        [ 0.5835,  0.6002, -0.8883],\n",
            "        [ 0.5837,  0.6004, -0.8886],\n",
            "        [ 0.5836,  0.6003, -0.8884],\n",
            "        [ 0.5836,  0.6003, -0.8885],\n",
            "        [ 0.5835,  0.6002, -0.8883],\n",
            "        [ 0.5837,  0.6004, -0.8886],\n",
            "        [ 0.5835,  0.6002, -0.8883],\n",
            "        [ 0.5835,  0.6002, -0.8883],\n",
            "        [ 0.5837,  0.6004, -0.8886],\n",
            "        [ 0.5837,  0.6004, -0.8886],\n",
            "        [ 0.5837,  0.6004, -0.8886],\n",
            "        [ 0.5835,  0.6002, -0.8883],\n",
            "        [ 0.5836,  0.6003, -0.8885],\n",
            "        [ 0.5836,  0.6003, -0.8885],\n",
            "        [ 0.5835,  0.6002, -0.8883],\n",
            "        [ 0.5837,  0.6004, -0.8886],\n",
            "        [ 0.5836,  0.6003, -0.8885],\n",
            "        [ 0.5835,  0.6003, -0.8884],\n",
            "        [ 0.5836,  0.6003, -0.8885],\n",
            "        [ 0.5837,  0.6004, -0.8886],\n",
            "        [ 0.5835,  0.6002, -0.8884],\n",
            "        [ 0.5835,  0.6002, -0.8883],\n",
            "        [ 0.5836,  0.6003, -0.8885],\n",
            "        [ 0.5835,  0.6002, -0.8884],\n",
            "        [ 0.5837,  0.6004, -0.8886],\n",
            "        [ 0.5835,  0.6002, -0.8884],\n",
            "        [ 0.5837,  0.6004, -0.8886],\n",
            "        [ 0.5837,  0.6004, -0.8887],\n",
            "        [ 0.5835,  0.6002, -0.8884],\n",
            "        [ 0.5837,  0.6004, -0.8886],\n",
            "        [ 0.5835,  0.6002, -0.8884],\n",
            "        [ 0.5835,  0.6002, -0.8883],\n",
            "        [ 0.5836,  0.6003, -0.8884],\n",
            "        [ 0.5835,  0.6002, -0.8884],\n",
            "        [ 0.5835,  0.6002, -0.8883],\n",
            "        [ 0.5835,  0.6002, -0.8883],\n",
            "        [ 0.5835,  0.6002, -0.8884],\n",
            "        [ 0.5836,  0.6003, -0.8884],\n",
            "        [ 0.5837,  0.6004, -0.8886],\n",
            "        [ 0.5835,  0.6002, -0.8883]], grad_fn=<AddmmBackward0>)\n"
          ]
        },
        {
          "name": "stderr",
          "output_type": "stream",
          "text": [
            "  2%|▏         | 1/52 [00:17<15:13, 17.91s/it]\n"
          ]
        },
        {
          "ename": "KeyboardInterrupt",
          "evalue": "",
          "output_type": "error",
          "traceback": [
            "\u001b[0;31m---------------------------------------------------------------------------\u001b[0m",
            "\u001b[0;31mKeyboardInterrupt\u001b[0m                         Traceback (most recent call last)",
            "Cell \u001b[0;32mIn[128], line 14\u001b[0m\n\u001b[1;32m     12\u001b[0m lr \u001b[39m=\u001b[39m \u001b[39m0.001\u001b[39m\n\u001b[1;32m     13\u001b[0m \u001b[39m#fitting the model on training data and record the result after each epoch\u001b[39;00m\n\u001b[0;32m---> 14\u001b[0m history \u001b[39m=\u001b[39m fit(num_epochs, lr, model, train_dl, val_dl, opt_func)\n",
            "Cell \u001b[0;32mIn[125], line 29\u001b[0m, in \u001b[0;36mfit\u001b[0;34m(epochs, lr, model, train_loader, val_loader, opt_func)\u001b[0m\n\u001b[1;32m     27\u001b[0m loss \u001b[39m=\u001b[39m model\u001b[39m.\u001b[39mtraining_step(batch)\n\u001b[1;32m     28\u001b[0m train_losses\u001b[39m.\u001b[39mappend(loss)\n\u001b[0;32m---> 29\u001b[0m loss\u001b[39m.\u001b[39;49mbackward()\n\u001b[1;32m     30\u001b[0m optimizer\u001b[39m.\u001b[39mstep()\n\u001b[1;32m     31\u001b[0m optimizer\u001b[39m.\u001b[39mzero_grad()\n",
            "File \u001b[0;32m/usr/local/lib/python3.10/dist-packages/torch/_tensor.py:487\u001b[0m, in \u001b[0;36mTensor.backward\u001b[0;34m(self, gradient, retain_graph, create_graph, inputs)\u001b[0m\n\u001b[1;32m    477\u001b[0m \u001b[39mif\u001b[39;00m has_torch_function_unary(\u001b[39mself\u001b[39m):\n\u001b[1;32m    478\u001b[0m     \u001b[39mreturn\u001b[39;00m handle_torch_function(\n\u001b[1;32m    479\u001b[0m         Tensor\u001b[39m.\u001b[39mbackward,\n\u001b[1;32m    480\u001b[0m         (\u001b[39mself\u001b[39m,),\n\u001b[0;32m   (...)\u001b[0m\n\u001b[1;32m    485\u001b[0m         inputs\u001b[39m=\u001b[39minputs,\n\u001b[1;32m    486\u001b[0m     )\n\u001b[0;32m--> 487\u001b[0m torch\u001b[39m.\u001b[39;49mautograd\u001b[39m.\u001b[39;49mbackward(\n\u001b[1;32m    488\u001b[0m     \u001b[39mself\u001b[39;49m, gradient, retain_graph, create_graph, inputs\u001b[39m=\u001b[39;49minputs\n\u001b[1;32m    489\u001b[0m )\n",
            "File \u001b[0;32m/usr/local/lib/python3.10/dist-packages/torch/autograd/__init__.py:200\u001b[0m, in \u001b[0;36mbackward\u001b[0;34m(tensors, grad_tensors, retain_graph, create_graph, grad_variables, inputs)\u001b[0m\n\u001b[1;32m    195\u001b[0m     retain_graph \u001b[39m=\u001b[39m create_graph\n\u001b[1;32m    197\u001b[0m \u001b[39m# The reason we repeat same the comment below is that\u001b[39;00m\n\u001b[1;32m    198\u001b[0m \u001b[39m# some Python versions print out the first line of a multi-line function\u001b[39;00m\n\u001b[1;32m    199\u001b[0m \u001b[39m# calls in the traceback and some print out the last line\u001b[39;00m\n\u001b[0;32m--> 200\u001b[0m Variable\u001b[39m.\u001b[39;49m_execution_engine\u001b[39m.\u001b[39;49mrun_backward(  \u001b[39m# Calls into the C++ engine to run the backward pass\u001b[39;49;00m\n\u001b[1;32m    201\u001b[0m     tensors, grad_tensors_, retain_graph, create_graph, inputs,\n\u001b[1;32m    202\u001b[0m     allow_unreachable\u001b[39m=\u001b[39;49m\u001b[39mTrue\u001b[39;49;00m, accumulate_grad\u001b[39m=\u001b[39;49m\u001b[39mTrue\u001b[39;49;00m)\n",
            "\u001b[0;31mKeyboardInterrupt\u001b[0m: "
          ]
        }
      ],
      "source": [
        "import warnings\n",
        "\n",
        "def fxn():\n",
        "    warnings.warn(\"deprecated\", DeprecationWarning)\n",
        "\n",
        "with warnings.catch_warnings():\n",
        "    warnings.simplefilter(\"ignore\")\n",
        "    fxn()\n",
        "\n",
        "num_epochs = 30\n",
        "opt_func = torch.optim.Adam\n",
        "lr = 0.001\n",
        "#fitting the model on training data and record the result after each epoch\n",
        "history = fit(num_epochs, lr, model, train_dl, val_dl, opt_func)"
      ]
    },
    {
      "cell_type": "markdown",
      "metadata": {
        "id": "5ANP0DKEadj6"
      },
      "source": [
        "# Testing"
      ]
    },
    {
      "cell_type": "code",
      "execution_count": 182,
      "metadata": {
        "id": "h4AQlTpmn2I5"
      },
      "outputs": [],
      "source": [
        "#! /usr/bin/python3\n",
        "import numpy as np\n",
        "from glob import glob\n",
        "import csv\n",
        "\n",
        "test_images = glob('{}/*/*_image.jpg'.format('test'))"
      ]
    },
    {
      "cell_type": "code",
      "execution_count": 193,
      "metadata": {},
      "outputs": [
        {
          "name": "stdout",
          "output_type": "stream",
          "text": [
            "Length of Test Data : 2631\n"
          ]
        }
      ],
      "source": [
        "batch_size = 56\n",
        "\n",
        "print(f\"Length of Test Data : {len(test_images)}\")\n",
        "\n",
        "test_data = ImageDataloader(test_images, None)\n",
        "\n",
        "#load the train and validation into batches.\n",
        "test_dl = DataLoader(test_data, batch_size, shuffle = False, num_workers = 1, pin_memory = True)"
      ]
    },
    {
      "cell_type": "code",
      "execution_count": 196,
      "metadata": {
        "id": "wdgGZ9iAbY_j"
      },
      "outputs": [
        {
          "name": "stderr",
          "output_type": "stream",
          "text": [
            "100%|██████████| 47/47 [05:51<00:00,  7.47s/it]\n"
          ]
        }
      ],
      "source": [
        "model = CarClassification()\n",
        "model.load_state_dict(torch.load('7.ckpt'))\n",
        "device='cpu'\n",
        "model.to(device)\n",
        "model.eval()\n",
        "all_preds = []\n",
        "with torch.no_grad():\n",
        "  for i, test_data in tqdm(enumerate(test_dl), total=len(test_dl)):\n",
        "      images, labels = test_data\n",
        "      out = model(images.to(device))\n",
        "      _, preds = torch.max(out.to(device), dim=1)\n",
        "      all_preds.extend(preds)"
      ]
    },
    {
      "cell_type": "code",
      "execution_count": 172,
      "metadata": {},
      "outputs": [
        {
          "data": {
            "text/plain": [
              "True"
            ]
          },
          "execution_count": 172,
          "metadata": {},
          "output_type": "execute_result"
        }
      ],
      "source": [
        "next(model.parameters()).is_cuda"
      ]
    },
    {
      "cell_type": "code",
      "execution_count": 197,
      "metadata": {},
      "outputs": [
        {
          "data": {
            "text/plain": [
              "2631"
            ]
          },
          "execution_count": 197,
          "metadata": {},
          "output_type": "execute_result"
        }
      ],
      "source": [
        "len(all_preds)"
      ]
    },
    {
      "cell_type": "code",
      "execution_count": 198,
      "metadata": {},
      "outputs": [],
      "source": [
        "test_images\n",
        "names = []\n",
        "for name in test_images:\n",
        "  L = name.split('/')\n",
        "  guid = L[1]\n",
        "  id = L[2][:4]\n",
        "  names.append(f'{guid}/{id}')"
      ]
    },
    {
      "cell_type": "code",
      "execution_count": 199,
      "metadata": {},
      "outputs": [
        {
          "data": {
            "text/plain": [
              "tensor(1, dtype=torch.int32)"
            ]
          },
          "execution_count": 199,
          "metadata": {},
          "output_type": "execute_result"
        }
      ],
      "source": [
        "all_preds[0].int()"
      ]
    },
    {
      "cell_type": "code",
      "execution_count": 200,
      "metadata": {},
      "outputs": [],
      "source": [
        "with open('8_epoch_results.csv', 'w') as f:\n",
        "  for i in range(len(names)):\n",
        "    f.write(f'{names[i]},{int(all_preds[i])}\\n')"
      ]
    },
    {
      "cell_type": "code",
      "execution_count": null,
      "metadata": {},
      "outputs": [],
      "source": []
    }
  ],
  "metadata": {
    "colab": {
      "provenance": []
    },
    "kernelspec": {
      "display_name": "Python 3",
      "name": "python3"
    },
    "language_info": {
      "codemirror_mode": {
        "name": "ipython",
        "version": 3
      },
      "file_extension": ".py",
      "mimetype": "text/x-python",
      "name": "python",
      "nbconvert_exporter": "python",
      "pygments_lexer": "ipython3",
      "version": "3.10.10"
    }
  },
  "nbformat": 4,
  "nbformat_minor": 0
}
